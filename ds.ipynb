{
 "cells": [
  {
   "cell_type": "code",
   "execution_count": 111,
   "metadata": {},
   "outputs": [
    {
     "name": "stdout",
     "output_type": "stream",
     "text": [
      "output from background {}\n"
     ]
    },
    {
     "data": {
      "application/vnd.jupyter.widget-view+json": {
       "model_id": "2c6df4eb6f194ff09387947c04abd785",
       "version_major": 2,
       "version_minor": 0
      },
      "text/plain": [
       "VBox(children=(HTML(value='what would you like to order?  <b>(click exit to quit)</b>', description='Restauran…"
      ]
     },
     "metadata": {},
     "output_type": "display_data"
    }
   ],
   "source": [
    "import ipywidgets as widgets\n",
    "\n",
    "\n",
    "text_head=widgets.HTML(\n",
    "    value='what would you like to order?  <b>(click exit to quit)</b>',\n",
    "    description='Restaurant:'\n",
    ")\n",
    "text_head\n",
    "\n",
    "options_bar = widgets.SelectMultiple(\n",
    "    options=['Cordero Asado', 'Pato', 'lambreado de conejo', 'Chicharron'],\n",
    "    value=['Cordero Asado'],\n",
    "    description='Menu',\n",
    "    disabled=False\n",
    ")\n",
    "options_bar\n",
    "\n",
    "button_items = widgets.Button(\n",
    "    description='add',\n",
    "    disabled=False,\n",
    "    button_style='',\n",
    "    tooltip='add'\n",
    ")\n",
    "button_items\n",
    "output = widgets.Output()\n",
    "\n",
    "orders = widgets.SelectMultiple(\n",
    "    options=[],\n",
    "    value=[],\n",
    "    description='Orders',\n",
    "    disabled=False\n",
    ")\n",
    "orders\n",
    "\n",
    "text_body=widgets.HTML(\n",
    "\n",
    "    print('output from background {}')\n",
    ")\n",
    "text_body\n",
    "\n",
    "exit = widgets.Button(\n",
    "    description='exit',\n",
    "    disabled=False,\n",
    "    button_style='',\n",
    "    tooltip='exit'\n",
    ")\n",
    "\n",
    "\n",
    "def on_button_clicked(b):\n",
    "    with output:\n",
    "        list_menu=list(orders.options)\n",
    "        list_menu.append(options_bar.value)\n",
    "        orders.options=tuple(list_menu)\n",
    "        text_body.value='wants to order anything else Anything else?  <b>(click exit to quit)</b>'\n",
    "\n",
    "button_items.on_click(on_button_clicked)\n",
    "\n",
    "def on_button_clicked(b):\n",
    "    with output:\n",
    "        text_head.close_all()\n",
    "\n",
    "exit.on_click(on_button_clicked)\n",
    "\n",
    "\n",
    "choose_menu = widgets.Box(children=[options_bar, button_items,exit])\n",
    "choose_menu\n",
    "order = widgets.Box(children=[orders, text_body])\n",
    "order\n",
    "\n",
    "accordio = widgets.VBox(children=[text_head,choose_menu, order])\n",
    "accordio\n",
    "\n",
    "\n"
   ]
  },
  {
   "cell_type": "code",
   "execution_count": 9,
   "metadata": {},
   "outputs": [
    {
     "name": "stdout",
     "output_type": "stream",
     "text": [
      "Cordero Asado\n",
      "Cheese sticks\n",
      "lambreado de conejo\n",
      "Chicharron\n",
      "hola\n"
     ]
    },
    {
     "ename": "NameError",
     "evalue": "name 'text_body' is not defined",
     "output_type": "error",
     "traceback": [
      "\u001b[1;31m---------------------------------------------------------------------------\u001b[0m",
      "\u001b[1;31mNameError\u001b[0m                                 Traceback (most recent call last)",
      "\u001b[1;32m~\\AppData\\Local\\Temp/ipykernel_13868/330898588.py\u001b[0m in \u001b[0;36m<module>\u001b[1;34m\u001b[0m\n\u001b[0;32m      9\u001b[0m \u001b[1;32mfor\u001b[0m \u001b[0melement\u001b[0m \u001b[1;32min\u001b[0m \u001b[0mlist_menu\u001b[0m\u001b[1;33m:\u001b[0m\u001b[1;33m\u001b[0m\u001b[1;33m\u001b[0m\u001b[0m\n\u001b[0;32m     10\u001b[0m     \u001b[1;32mif\u001b[0m \u001b[0melement\u001b[0m \u001b[1;33m==\u001b[0m \u001b[1;34m'Cheese sticks'\u001b[0m\u001b[1;33m:\u001b[0m\u001b[1;33m\u001b[0m\u001b[1;33m\u001b[0m\u001b[0m\n\u001b[1;32m---> 11\u001b[1;33m         \u001b[0mtext_body\u001b[0m\u001b[1;33m.\u001b[0m\u001b[0mclose_all\u001b[0m\u001b[1;33m(\u001b[0m\u001b[1;33m)\u001b[0m\u001b[1;33m\u001b[0m\u001b[1;33m\u001b[0m\u001b[0m\n\u001b[0m\u001b[0;32m     12\u001b[0m \u001b[1;33m\u001b[0m\u001b[0m\n\u001b[0;32m     13\u001b[0m \u001b[0moptions\u001b[0m\u001b[1;33m=\u001b[0m\u001b[0mtuple\u001b[0m\u001b[1;33m(\u001b[0m\u001b[0mlist_menu\u001b[0m\u001b[1;33m)\u001b[0m\u001b[1;33m\u001b[0m\u001b[1;33m\u001b[0m\u001b[0m\n",
      "\u001b[1;31mNameError\u001b[0m: name 'text_body' is not defined"
     ]
    }
   ],
   "source": [
    "\n",
    "options=['Cordero Asado', 'Cheese sticks', 'lambreado de conejo', 'Chicharron']\n",
    "list_menu=list(options)\n",
    "list_menu.append('hola')\n",
    "\n",
    "for element in list_menu:\n",
    "\n",
    "    print(element)\n",
    "\n",
    "for element in list_menu:\n",
    "    if element == 'Cheese sticks':\n",
    "        text_body.close_all()\n",
    "\n",
    "options=tuple(list_menu)\n",
    "\n"
   ]
  },
  {
   "cell_type": "code",
   "execution_count": 10,
   "metadata": {},
   "outputs": [
    {
     "name": "stdout",
     "output_type": "stream",
     "text": [
      "<re.Match object; span=(35, 39), match='Mary'>\n",
      "<re.Match object; span=(0, 3), match='Amy'>\n",
      "<re.Match object; span=(61, 65), match='Ruth'>\n",
      "<re.Match object; span=(70, 75), match='Peter'>\n"
     ]
    }
   ],
   "source": [
    "import re\n",
    "\n",
    "simple_string = \"\"\"Amy is 5 years old, and her sister Mary is 2 years old. \n",
    "    Ruth and Peter, their parents, have 3 kids.\"\"\"\n",
    "\n",
    "nombres=['Mary','Amy','Ruth','Peter']\n",
    "\n",
    "for element in nombres:\n",
    "    x = re.search(element, simple_string)\n",
    "    print(x)"
   ]
  }
 ],
 "metadata": {
  "interpreter": {
   "hash": "a2ab3825ac7005fb7b26f112e9c99ae62f464c629e30b0d534c3b931b6cbc3ff"
  },
  "kernelspec": {
   "display_name": "Python 3.9.7 ('base')",
   "language": "python",
   "name": "python3"
  },
  "language_info": {
   "codemirror_mode": {
    "name": "ipython",
    "version": 3
   },
   "file_extension": ".py",
   "mimetype": "text/x-python",
   "name": "python",
   "nbconvert_exporter": "python",
   "pygments_lexer": "ipython3",
   "version": "3.9.7"
  },
  "orig_nbformat": 4
 },
 "nbformat": 4,
 "nbformat_minor": 2
}
