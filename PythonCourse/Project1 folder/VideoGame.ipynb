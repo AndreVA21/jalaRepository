{
 "cells": [
  {
   "cell_type": "code",
   "execution_count": 8,
   "metadata": {},
   "outputs": [
    {
     "name": "stdout",
     "output_type": "stream",
     "text": [
      "         --Video Game--\n",
      "write: rock, paper or scissors\n",
      "user choose: rock\n",
      "computer choose: paper\n",
      "user wins\n"
     ]
    }
   ],
   "source": [
    "\"\"\"\n",
    "Andre Arroyo Hinojosa\n",
    "computer game\n",
    "NOTEBOOK NECESARY USE\n",
    "\"\"\"\n",
    "\n",
    "import random\n",
    "\n",
    "ACTIONS = {'rock,paper' : 'user wins',\n",
    "           'rock,rock' : 'draw',\n",
    "           'rock,scissors' : 'computer wins',\n",
    "           'paper,paper' : 'draw',\n",
    "           'paper,rock' : 'user wins',\n",
    "           'paper,scissors' : 'computer wins',\n",
    "           'scissors,paper' : 'user wins',\n",
    "           'scissors,rock' : 'computer wins',\n",
    "           'scissors,scissors' : 'draw'}\n",
    "\n",
    "class game_agent:\n",
    "\n",
    "    def __init__(self, actions):\n",
    "        self.actions = actions\n",
    "        self.perceptions=''\n",
    "    \n",
    "    def action(self, perception, basic_action=''):\n",
    "\n",
    "        computer_actions=['rock', 'paper', 'scissors']\n",
    "        position=random.randint(0,2)\n",
    "        computer_action=computer_actions[position]\n",
    "\n",
    "        self.perceptions= ','.join([perception,computer_action])\n",
    "\n",
    "        if not perception:\n",
    "            return basic_action\n",
    "\n",
    "        if self.perceptions in self.actions.keys():\n",
    "            return f\"user choose: {perception}\\ncomputer choose: {computer_action}\\n{self.actions[self.perceptions]}\"\n",
    "        self.perceptions = ''\n",
    "\n",
    "        return basic_action\n",
    "\n",
    "print(\"\"\"         --Video Game--\\nwrite: rock, paper or scissors\"\"\")\n",
    "\n",
    "video_game=game_agent(ACTIONS)\n",
    "perception = input(\"ur turn: \")\n",
    "\n",
    "if perception:\n",
    "    do= video_game.action(perception, 'you lose, select valid option')\n",
    "print(do)"
   ]
  }
 ],
 "metadata": {
  "interpreter": {
   "hash": "a2ab3825ac7005fb7b26f112e9c99ae62f464c629e30b0d534c3b931b6cbc3ff"
  },
  "kernelspec": {
   "display_name": "Python 3.9.7 ('base')",
   "language": "python",
   "name": "python3"
  },
  "language_info": {
   "codemirror_mode": {
    "name": "ipython",
    "version": 3
   },
   "file_extension": ".py",
   "mimetype": "text/x-python",
   "name": "python",
   "nbconvert_exporter": "python",
   "pygments_lexer": "ipython3",
   "version": "3.9.7"
  },
  "orig_nbformat": 4
 },
 "nbformat": 4,
 "nbformat_minor": 2
}
