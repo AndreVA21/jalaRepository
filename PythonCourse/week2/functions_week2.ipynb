{
 "cells": [
  {
   "cell_type": "markdown",
   "metadata": {},
   "source": [
    "**Week 2 - Functions**"
   ]
  },
  {
   "cell_type": "code",
   "execution_count": null,
   "metadata": {},
   "outputs": [],
   "source": []
  },
  {
   "cell_type": "code",
   "execution_count": 76,
   "metadata": {},
   "outputs": [
    {
     "name": "stdout",
     "output_type": "stream",
     "text": [
      "6.0\n"
     ]
    }
   ],
   "source": [
    "# calculate the average price\n",
    "total = 0\n",
    "prices = [2.50, 5, 6, 10.50]\n",
    "average = 0\n",
    "\n",
    "print(average_calculator(prices))\n"
   ]
  },
  {
   "cell_type": "code",
   "execution_count": 79,
   "metadata": {},
   "outputs": [
    {
     "name": "stdout",
     "output_type": "stream",
     "text": [
      "20.857142857142858\n"
     ]
    }
   ],
   "source": [
    "# calculate the average daily customers\n",
    "total = 0\n",
    "prices = [29, 21, 55, 5, 10, 14, 12]\n",
    "average = 0\n",
    "\n",
    "print(average_calculator(prices))"
   ]
  },
  {
   "cell_type": "code",
   "execution_count": null,
   "metadata": {},
   "outputs": [],
   "source": []
  },
  {
   "cell_type": "markdown",
   "metadata": {},
   "source": [
    "**Problem: We are repeating a lot of code**\n",
    "wouldn't it be great to have just one piece of code that can average anythin we ask it to?\n",
    "**Funtions** perform specific tasks"
   ]
  },
  {
   "cell_type": "markdown",
   "metadata": {},
   "source": [
    "**Making our own functions**\n",
    "1. What is the function name?\n",
    "2. What data do we send into the function?\n",
    "3. What data comes out of the funtion?"
   ]
  },
  {
   "cell_type": "code",
   "execution_count": 72,
   "metadata": {},
   "outputs": [],
   "source": [
    "## we want a function that can average a list of numbers\n",
    "## we want to use our function for getting the average for other list of numbers, not just prices \n",
    "## for example we can use to pass in a list of daily sales  \n",
    "# therefore name our parameters to be more general\n",
    "def average_calculator(new_numbers):\n",
    "    total=0\n",
    "    for element in new_numbers:\n",
    "        total += element\n",
    "\n",
    "    return total/len(new_numbers)\n"
   ]
  },
  {
   "cell_type": "markdown",
   "metadata": {},
   "source": [
    "**Calling functions**\n",
    "**Functions** don't run until we call them"
   ]
  },
  {
   "cell_type": "code",
   "execution_count": 73,
   "metadata": {},
   "outputs": [
    {
     "name": "stdout",
     "output_type": "stream",
     "text": [
      "3.0\n"
     ]
    }
   ],
   "source": [
    "## calling a funtions\n",
    "numbers = [1, 2, 3, 4, 5]\n",
    "avg = average_calculator(numbers)\n",
    "print(avg)"
   ]
  },
  {
   "cell_type": "code",
   "execution_count": 74,
   "metadata": {},
   "outputs": [
    {
     "name": "stdout",
     "output_type": "stream",
     "text": [
      "3.75\n"
     ]
    }
   ],
   "source": [
    "# use our function on  prices\n",
    "prices = [2.50, 3, 4.5, 5]\n",
    "result = average_calculator(prices)\n",
    "print(result)"
   ]
  },
  {
   "cell_type": "code",
   "execution_count": 86,
   "metadata": {},
   "outputs": [],
   "source": [
    "## A fortune-teller robot wants us to create a function for generating lottery ticket numbers. \n",
    "## The code for generating lottery ticket numbers was already created, it prints out the numbers one by one\n",
    "import random\n",
    "\n",
    "def lotto_generator():\n",
    "    for i in range(5):\n",
    "        return random.randint(1, 53)\n"
   ]
  },
  {
   "cell_type": "code",
   "execution_count": 87,
   "metadata": {},
   "outputs": [],
   "source": [
    "## Instead of printing out the numbers one by one, our function will return a list of the numbers.\n",
    "import random\n",
    "def lotto_numbers():\n",
    "    lotto_list=[]\n",
    "    for i in range(5):\n",
    "        lotto_list.append(random.randint(1, 53)) \n",
    "    return lotto_list"
   ]
  },
  {
   "cell_type": "code",
   "execution_count": 88,
   "metadata": {},
   "outputs": [
    {
     "name": "stdout",
     "output_type": "stream",
     "text": [
      "[29, 28, 25, 19, 14]\n"
     ]
    }
   ],
   "source": [
    "## main part of our program\n",
    "# calling lotto_numbers\n",
    "numbers = lotto_numbers()\n",
    "assert numbers and len(numbers) != 0, f'{numbers} must not be None or empty'\n",
    "print(numbers)"
   ]
  },
  {
   "cell_type": "markdown",
   "metadata": {},
   "source": [
    "We can think of the code that calls or executes our function as the **main** part of our program\n",
    "To be more organized, we can take our **main** program code and put it in a function called **main**\n",
    "then the only piece of code that is not in a function in our file will be one single call to main to kick off our program. This is a best practice in Python"
   ]
  },
  {
   "cell_type": "code",
   "execution_count": 90,
   "metadata": {},
   "outputs": [
    {
     "name": "stdout",
     "output_type": "stream",
     "text": [
      "28.75\n"
     ]
    }
   ],
   "source": [
    "## organize our main code into a main function\n",
    "def average(new_numbers):\n",
    "    total=0\n",
    "    for element in new_numbers:\n",
    "        total += element\n",
    "\n",
    "    return total/len(new_numbers)\n",
    "\n",
    "def main():\n",
    "    prices = [29, 21, 55, 10]\n",
    "    result = average(prices)\n",
    "    print(result)\n",
    "\n",
    "# all of execution starts here\n",
    "main()"
   ]
  },
  {
   "cell_type": "markdown",
   "metadata": {},
   "source": [
    "You need to be aware of **Scope**\n",
    "Scope determines what parts of your program can access certain variables\n",
    "If you declare a variable inside a function it only exists within that function or it has local scope\n",
    "Variables that are declared outside of a function have global scope, global scope means they can be accessed anywhere inside of the script\n",
    "But, variables still can't be used until they're declared."
   ]
  },
  {
   "cell_type": "markdown",
   "metadata": {},
   "source": [
    "**Functions should be used for any chunck of code that has specific purpose.**"
   ]
  },
  {
   "cell_type": "markdown",
   "metadata": {},
   "source": [
    "Things we want to do know\n",
    "1. Print or display the menu\n",
    "2. Take an order\n",
    "3. Calculate the total bill"
   ]
  },
  {
   "cell_type": "code",
   "execution_count": 100,
   "metadata": {},
   "outputs": [
    {
     "name": "stdout",
     "output_type": "stream",
     "text": [
      "dish 1 price:  0.50\n",
      "dish 2 price:  1.50\n",
      "dish 3 price:  5.00\n",
      "write exit to finish order\n",
      "choose a valid option\n",
      "choose a valid option\n",
      "You ordered:  ['dish 1', 'dish 2'] your total is:  2.00\n"
     ]
    }
   ],
   "source": [
    "def get_order(menu):\n",
    "    orders=[]\n",
    "    order=''\n",
    "    \n",
    "    while not order == 'exit':\n",
    "        order=str(input('input order'))\n",
    "\n",
    "        if order=='exit':break\n",
    "        \n",
    "        try:\n",
    "            list(menu).index(order)\n",
    "            orders.append(order)\n",
    "        except:\n",
    "            print('choose a valid option')\n",
    "    return orders\n",
    "\n",
    "## print the menu, prices with 2 decimal numbers\n",
    "def print_menu(menu):\n",
    "    print(f\"dish 1 price: {menu['dish 1']: .2f}\\ndish 2 price: {menu['dish 2']: .2f}\\ndish 3 price: {menu['dish 3']: .2f}\\nwrite exit to finish order\")\n",
    "\n",
    "## we need the list of orders and the menu to look up the price\n",
    "## sum up the total price and return the total bill\n",
    "def bill_total(orders, menu):\n",
    "    total=0\n",
    "    for element in orders:\n",
    "        total += menu[element]\n",
    "    return total\n",
    "\n",
    "def main():\n",
    "    menu = { 'dish 1': 0.50, 'dish 2': 1.50, 'dish 3': 5 }\n",
    "    print_menu(menu)\n",
    "    orders = get_order(menu)\n",
    "    total = bill_total(orders, menu)\n",
    "    print(f\"You ordered:  {orders} your total is: {total: .2f}\")\n",
    "    \n",
    "\n",
    "main()"
   ]
  },
  {
   "cell_type": "markdown",
   "metadata": {},
   "source": [
    "**Guess the Number Function**"
   ]
  },
  {
   "cell_type": "code",
   "execution_count": 102,
   "metadata": {},
   "outputs": [
    {
     "name": "stdout",
     "output_type": "stream",
     "text": [
      "Lotto numbers:  [27, 5, 45, 32, 40]\n",
      "you win\n"
     ]
    }
   ],
   "source": [
    "## The fortune-teller robot wants to be able to easily generate lotto numbers and also play the guess the number game. \n",
    "# We'll improve the robot's program by moving the code we wrote previously for the guess the number game into its own function.\n",
    "\n",
    "import random\n",
    "    \n",
    "def guessing_game(new_numbers):\n",
    "\n",
    "    try:\n",
    "        date=int(input('input number'))\n",
    "        new_numbers.index(date)\n",
    "        return 'you win'\n",
    "    except:\n",
    "        return 'you lose'\n",
    "\n",
    "def lotto_numbers():\n",
    "    lotto_list=[]\n",
    "    for i in range(5):\n",
    "        lotto_list.append(random.randint(1, 53)) \n",
    "    return lotto_list\n",
    "\n",
    "def main():\n",
    "    numbers = lotto_numbers()\n",
    "    print('Lotto numbers: ', numbers)\n",
    "    print(guessing_game(numbers))\n",
    "    \n",
    "main()"
   ]
  },
  {
   "cell_type": "markdown",
   "metadata": {},
   "source": [
    "**User's Choice**\n",
    "1. At the beginning of main(), let's use input() to ask user whether they want to play the game or get lottery numbers. Ask them, 'Do you want to get lottery numbers (1) or play the game (2) or quit (Q)?' and assign it to the variable answer.\n",
    "2. Now, write a conditional to check if the variable answer is 1, and put the first set of code that grabs and prints lotto_numbers() inside of a block for that conditional.\n",
    "3. Next, expand upon that first conditional with an elif that checks if the variable answer is 2, and nest the guessing_game() function call inside of that elif.\n",
    "4. Finally, add an else condition that prints 'Toodles!' -- this will run if neither 1 or 2 is entered by the user."
   ]
  },
  {
   "cell_type": "code",
   "execution_count": 18,
   "metadata": {},
   "outputs": [
    {
     "name": "stdout",
     "output_type": "stream",
     "text": [
      "---Video Game---\n",
      "press 1: generate lotto numbers\n",
      "press 2: guess number\n",
      "press 'q' to exit\n",
      "[14, 30, 44, 1, 30]\n",
      "[51, 48, 16, 36, 20]\n",
      "[49, 8, 9, 36, 10]\n",
      "[35, 28, 27, 11, 9]\n",
      "guess number: \n",
      "you win\n",
      "---exit game---\n"
     ]
    }
   ],
   "source": [
    "## We want the fortune-teller robot to be able to ask the user if they want to play the guess the number game or if they want lottery numbers.\n",
    "import random\n",
    "\n",
    "ACTIONS = ['1','2','q']\n",
    "generated_numbers=[]\n",
    "\n",
    "def guessing_game(generated_numbers):\n",
    "    print('guess number: ')\n",
    "    try:\n",
    "        number=int(input('guess number'))\n",
    "        generated_numbers.index(number)\n",
    "        return print('you win')\n",
    "    except:\n",
    "        return print('you lose')\n",
    "\n",
    "def lotto_numbers():\n",
    "    lotto_list=[]\n",
    "    for i in range(5):\n",
    "        lotto_list.append(random.randint(1, 53)) \n",
    "    return lotto_list\n",
    "  \n",
    "def main():\n",
    "    print(f\"---Video Game---\\npress 1: generate lotto numbers\\npress 2: guess number\\npress 'q' to exit\")\n",
    "    dato=''\n",
    "    while not dato == 'q':\n",
    "        try:\n",
    "\n",
    "            dato=input('choose case')\n",
    "            ACTIONS.index(dato)\n",
    "\n",
    "            match dato:\n",
    "                case '1':\n",
    "                    generated_numbers=lotto_numbers()\n",
    "                    print('numbers generated')\n",
    "                case '2':\n",
    "                    guessing_game(generated_numbers)\n",
    "                case 'q':\n",
    "                    print('---exit game---')\n",
    "        except:\n",
    "            print('Toodles!')\n",
    "    \n",
    "main()"
   ]
  },
  {
   "cell_type": "code",
   "execution_count": null,
   "metadata": {},
   "outputs": [
    {
     "ename": "",
     "evalue": "",
     "output_type": "error",
     "traceback": [
      "\u001b[1;31mRunning cells with 'Python 3.10.6 64-bit' requires ipykernel package.\n",
      "Run the following command to install 'ipykernel' into the Python environment. \n",
      "Command: 'c:/Python310/python.exe -m pip install ipykernel -U --user --force-reinstall'"
     ]
    }
   ],
   "source": []
  }
 ],
 "metadata": {
  "interpreter": {
   "hash": "369f2c481f4da34e4445cda3fffd2e751bd1c4d706f27375911949ba6bb62e1c"
  },
  "kernelspec": {
   "display_name": "Python 3.10.6 64-bit",
   "language": "python",
   "name": "python3"
  },
  "language_info": {
   "codemirror_mode": {
    "name": "ipython",
    "version": 3
   },
   "file_extension": ".py",
   "mimetype": "text/x-python",
   "name": "python",
   "nbconvert_exporter": "python",
   "pygments_lexer": "ipython3",
   "version": "3.10.6"
  },
  "orig_nbformat": 4,
  "vscode": {
   "interpreter": {
    "hash": "aee8b7b246df8f9039afb4144a1f6fd8d2ca17a180786b69acc140d282b71a49"
   }
  }
 },
 "nbformat": 4,
 "nbformat_minor": 2
}
