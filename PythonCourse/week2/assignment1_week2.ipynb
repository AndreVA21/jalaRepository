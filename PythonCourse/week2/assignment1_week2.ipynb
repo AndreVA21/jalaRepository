{
 "cells": [
  {
   "cell_type": "markdown",
   "metadata": {},
   "source": [
    "**Week 2 - Assigment 1**"
   ]
  },
  {
   "cell_type": "code",
   "execution_count": 9,
   "metadata": {},
   "outputs": [],
   "source": [
    "## join array elements\n",
    "\n",
    "grades1 = [10, 20, 40, 67.7]\n",
    "grades2 = [100, 25.0, 40.5, 6.7]\n",
    "expected_result = [10, 20, 40, 67.7, 100, 25.0, 40.5, 6.7]\n",
    "result = []\n",
    "\n",
    "result=grades1+grades2\n",
    "\n",
    "assert result == expected_result, f\"actual result {result} does not match expected result {expected_result}\""
   ]
  },
  {
   "cell_type": "code",
   "execution_count": 11,
   "metadata": {},
   "outputs": [],
   "source": [
    "## sum array elements\n",
    "\n",
    "grades1 = [10, 20, 40, 67.7]\n",
    "grades2 = [100, 25.0, 40.5, 6.7]\n",
    "expected_result = [110, 45.0, 80.5, 74.4]\n",
    "\n",
    "result = []\n",
    "\n",
    "for i in range(len(grades1)):\n",
    "    result.append(grades1[i]+grades2[i])\n",
    "\n",
    "assert result == expected_result, f\"actual result {result} does not match expected result {expected_result}\""
   ]
  },
  {
   "cell_type": "code",
   "execution_count": 64,
   "metadata": {},
   "outputs": [
    {
     "name": "stdout",
     "output_type": "stream",
     "text": [
      "celcius: -7.778\n",
      "celcius: -18.889\n",
      "celcius: -12.222\n",
      "celcius: -22.778\n",
      "celcius: -8.889\n"
     ]
    }
   ],
   "source": [
    "# With arithmetic manipulation, we can convert current data to the way we want it to be. \n",
    "# Here's a real-world problem I face - I moved down to the United States about 6 years ago from Canada. \n",
    "# In Canada we use celciu for temperatures, and most of the time it has to be converted to the US system which uses farenheit. \n",
    "# Convert a number of farenheit values, say the weather forecase, to celcius\n",
    "# And the formula for conversion is ((°F − 32) × 5/9 = °C)\n",
    "import random\n",
    "\n",
    "farenheit = [0,-10,-5,-15,0]\n",
    "celcius = []\n",
    "expected_celcius = [-17.77777777777778, -23.333333333333332, -20.555555555555557, -26.11111111111111, -17.77777777777778]\n",
    "\n",
    "for element in farenheit:\n",
    "    celcius.append((element - 32) * 5/9)\n",
    "\n",
    "assert celcius == expected_celcius, f\"actual result {celcius} does not match expected result {expected_celcius}\"\n",
    "\n",
    "# Now, create an array with random values of typical `Ann Arbor winter` farenheit values with sample_size specified by the user\n",
    "# then convert its values to celcius\n",
    "# result list must not contain duplicates, and celcius numbers must be floating point with 3 decimal places\n",
    "faren=[]\n",
    "celcius = []\n",
    "\n",
    "sample_size=int(input('list size'))\n",
    "\n",
    "for element in range(sample_size):\n",
    "    faren.append(random.randint(-20,20))\n",
    "for element in faren:\n",
    "    if element not in celcius:\n",
    "        celcius.append((element - 32) * 5/9)\n",
    "\n",
    "for element in celcius:\n",
    "    print(f\"celcius: {element:.3f}\")\n",
    "\n",
    "expected_celcius = celcius\n",
    "\n",
    "assert celcius == expected_celcius, f\"actual result {celcius} does not match expected result {expected_celcius}\"\n"
   ]
  },
  {
   "cell_type": "code",
   "execution_count": 42,
   "metadata": {},
   "outputs": [],
   "source": [
    "## Now, we want to get a boolean array to check celcius degrees that are greater than -20 degrees\n",
    "\n",
    "farenheit = [0,-10,-5,-15,0]\n",
    "celcius_gt_20 = []\n",
    "expected_celcius_gt_20 = [False, True, True, True, False]\n",
    "\n",
    "for element in farenheit:\n",
    "    if -20 > ((element - 32) * 5/9):\n",
    "        set_bool=True\n",
    "    else:\n",
    "        set_bool=False\n",
    "    celcius_gt_20.append(set_bool)\n",
    "\n",
    "assert celcius_gt_20 == expected_celcius_gt_20, f\"actual result {celcius_gt_20} does not match expected result {expected_celcius_gt_20}\"\n"
   ]
  },
  {
   "cell_type": "code",
   "execution_count": 44,
   "metadata": {},
   "outputs": [],
   "source": [
    "## Now, we want to get a boolean array to check celcius degrees that are greater than -20 degrees\n",
    "\n",
    "farenheit = [0,-10,-5,-15,0]\n",
    "celcius_gt_20 = []\n",
    "expected_celcius_gt_20 = [False, True, True, True, False]\n",
    "\n",
    "for element in farenheit:\n",
    "    if -20 > ((element - 32) * 5/9):\n",
    "        set_bool=True\n",
    "    else:\n",
    "        set_bool=False\n",
    "    celcius_gt_20.append(set_bool)\n",
    "\n",
    "assert celcius_gt_20 == expected_celcius_gt_20, f\"actual result {celcius_gt_20} does not match expected result {expected_celcius_gt_20}\""
   ]
  },
  {
   "cell_type": "code",
   "execution_count": 28,
   "metadata": {},
   "outputs": [
    {
     "name": "stdout",
     "output_type": "stream",
     "text": [
      "[1970, 1971, 1972, 1973, 1974, 1975, 1976, 1977, 1978, 1979, 1980, 1981, 1982, 1983, 1984, 1985, 1986, 1987, 1988, 1989, 1990, 1991, 1992, 1993, 1994, 1995, 1996, 1997, 1998, 1999, 2000, 2001, 2002, 2003, 2004, 2005, 2006, 2007, 2008, 2009, 2010, 2011, 2012, 2013, 2014, 2015, 2016, 2017, 2018, 2019, 2020, 2021, 2022]\n"
     ]
    }
   ],
   "source": [
    "## We've held music festivals, every other year since 1970 until now - 2022. How would we list the years?\n",
    "lista=[]\n",
    "for element in range(1970,2023):\n",
    "    lista.append(element)\n",
    "print(lista)"
   ]
  },
  {
   "cell_type": "code",
   "execution_count": 48,
   "metadata": {},
   "outputs": [
    {
     "name": "stdout",
     "output_type": "stream",
     "text": [
      "[54, 42, 33, 43, 22]\n"
     ]
    }
   ],
   "source": [
    "## A fortune-teller robot generate random lotto ticket suggestions for its customers. \n",
    "## How would you help the ronot pick five random numbers between 1 and 53.\n",
    "import random\n",
    "\n",
    "lotto_ticket=[]\n",
    "\n",
    "for i in range(5):\n",
    "    lotto_ticket.append(random.randint(1,54))\n",
    "print(lotto_ticket)"
   ]
  },
  {
   "cell_type": "code",
   "execution_count": 78,
   "metadata": {},
   "outputs": [
    {
     "name": "stdout",
     "output_type": "stream",
     "text": [
      "item 1: $0.50\n",
      "item 2: $1.50\n",
      "item 3: $2.50\n"
     ]
    }
   ],
   "source": [
    "## Print this menu prices in the following format\n",
    "##  item 1: $0.50\n",
    "##  item 2: $1.50\n",
    "##  item 3: $2.50\n",
    "menu_prices  = {\n",
    "    'item 1': 0.50,\n",
    "    'item 2': 1.50,\n",
    "    'item 3': 2.50\n",
    "}\n",
    "\n",
    "for element in menu_prices:\n",
    "    print(f\"{element}: ${menu_prices[element]}0\")\n"
   ]
  },
  {
   "cell_type": "code",
   "execution_count": 45,
   "metadata": {},
   "outputs": [
    {
     "data": {
      "application/vnd.jupyter.widget-view+json": {
       "model_id": "45649e976564449db567b0749376550c",
       "version_major": 2,
       "version_minor": 0
      },
      "text/plain": [
       "VBox(children=(HTML(value='what would you like to order?  <b>(click exit to quit)</b>', description='Restauran…"
      ]
     },
     "metadata": {},
     "output_type": "display_data"
    }
   ],
   "source": [
    "## Create an console interface for ordering from a menu, \n",
    "## it will let customers order and add as many menu items as they want\n",
    "# Add the user what they want to order as: what would you like to order? (Q to quit)\n",
    "# while the order is not equal for Q for quit, find the order and add it to the list if it exists\n",
    "# else let the customer know that the `Menu item does not exist`    \n",
    "# See if the customer wants to order anything else `Anything else? (Q to Quit)`\n",
    "\n",
    "import ipywidgets as widgets\n",
    "\n",
    "\n",
    "text_head=widgets.HTML(\n",
    "    value='what would you like to order?  <b>(click exit to quit)</b>',\n",
    "    description='Restaurant:'\n",
    ")\n",
    "text_head\n",
    "\n",
    "options_bar = widgets.SelectMultiple(\n",
    "    options=['Roast lamb', 'Duck', 'Chicharron'],\n",
    "    value=['Roast lamb'],\n",
    "    description='Menu',\n",
    "    disabled=False\n",
    ")\n",
    "options_bar\n",
    "\n",
    "button_items = widgets.Button(\n",
    "    description='add',\n",
    "    disabled=False,\n",
    "    button_style='',\n",
    "    tooltip='add'\n",
    ")\n",
    "button_items\n",
    "output = widgets.Output()\n",
    "\n",
    "orders = widgets.SelectMultiple(\n",
    "    options=[],\n",
    "    value=[],\n",
    "    description='Orders',\n",
    "    disabled=False\n",
    ")\n",
    "orders\n",
    "\n",
    "text_body=widgets.HTML(\n",
    "    \n",
    ")\n",
    "text_body\n",
    "\n",
    "exit = widgets.Button(\n",
    "    description='exit',\n",
    "    disabled=False,\n",
    "    button_style='',\n",
    "    tooltip='exit'\n",
    ")\n",
    "\n",
    "\n",
    "def on_button_clicked(b):\n",
    "    with output:\n",
    "        list_menu=list(orders.options)\n",
    "        list_menu.append(options_bar.value[0])\n",
    "        orders.options=tuple(list_menu)\n",
    "        text_body.value='wants to order anything else Anything else?  <b>(click exit to quit)</b>'\n",
    "        \n",
    "\n",
    "button_items.on_click(on_button_clicked)\n",
    "\n",
    "def on_button_clicked(b):\n",
    "    with output:\n",
    "        text_head.close_all()\n",
    "\n",
    "exit.on_click(on_button_clicked)\n",
    "\n",
    "\n",
    "choose_menu = widgets.Box(children=[options_bar, button_items,exit])\n",
    "choose_menu\n",
    "order = widgets.Box(children=[orders, text_body])\n",
    "order\n",
    "\n",
    "accordio = widgets.VBox(children=[text_head,choose_menu, order])\n",
    "accordio\n"
   ]
  },
  {
   "cell_type": "code",
   "execution_count": 46,
   "metadata": {},
   "outputs": [
    {
     "data": {
      "application/vnd.jupyter.widget-view+json": {
       "model_id": "c079dc6caccf44e59b2f85e4c191976e",
       "version_major": 2,
       "version_minor": 0
      },
      "text/plain": [
       "VBox(children=(HTML(value='what would you like to order?  <b>(click exit to quit)</b>', description='Restauran…"
      ]
     },
     "metadata": {},
     "output_type": "display_data"
    }
   ],
   "source": [
    "## We have a problem, we run out of `Cheese sticks` in the menu, we'll need to let the customer know\n",
    "## if the order is `Cheese sticks` print `We're all out of that!` and skip the rest of the code\n",
    "\n",
    "import ipywidgets as widgets\n",
    "\n",
    "\n",
    "text_head=widgets.HTML(\n",
    "    value='what would you like to order?  <b>(click exit to quit)</b>',\n",
    "    description='Restaurant:'\n",
    ")\n",
    "text_head\n",
    "\n",
    "options_bar = widgets.SelectMultiple(\n",
    "    options=['Roast lamb', 'Duck', 'Cheese sticks', 'Chicharron'],\n",
    "    value=['Roast lamb'],\n",
    "    description='Menu',\n",
    "    disabled=False\n",
    ")\n",
    "options_bar\n",
    "\n",
    "button_items = widgets.Button(\n",
    "    description='add',\n",
    "    disabled=False,\n",
    "    button_style='',\n",
    "    tooltip='add'\n",
    ")\n",
    "button_items\n",
    "output = widgets.Output()\n",
    "\n",
    "orders = widgets.SelectMultiple(\n",
    "    options=[],\n",
    "    value=[],\n",
    "    description='Orders',\n",
    "    disabled=False\n",
    ")\n",
    "orders\n",
    "\n",
    "text_body=widgets.HTML(\n",
    "    \n",
    ")\n",
    "text_body\n",
    "\n",
    "exit = widgets.Button(\n",
    "    description='exit',\n",
    "    disabled=False,\n",
    "    button_style='',\n",
    "    tooltip='exit'\n",
    ")\n",
    "\n",
    "\n",
    "def on_button_clicked(b):\n",
    "    with output:\n",
    "        list_menu=list(orders.options)\n",
    "        list_menu.append(options_bar.value[0])\n",
    "        orders.options=tuple(list_menu)\n",
    "\n",
    "        if options_bar.value[0]=='Cheese sticks':\n",
    "            text_body.value=\"We're all out of that!\"\n",
    "            text_head.close()\n",
    "            options_bar.close()\n",
    "            button_items.close()\n",
    "            orders.close()\n",
    "\n",
    "\n",
    "        else:\n",
    "            text_body.value='wants to order anything else Anything else?  <b>(click exit to quit)</b>'\n",
    "        \n",
    "\n",
    "button_items.on_click(on_button_clicked)\n",
    "\n",
    "def on_button_clicked(b):\n",
    "    with output:\n",
    "        text_head.close_all()\n",
    "\n",
    "exit.on_click(on_button_clicked)\n",
    "\n",
    "\n",
    "choose_menu = widgets.Box(children=[options_bar, button_items,exit])\n",
    "choose_menu\n",
    "order = widgets.Box(children=[orders, text_body])\n",
    "order\n",
    "\n",
    "accordio = widgets.VBox(children=[text_head,choose_menu, order])\n",
    "accordio\n"
   ]
  },
  {
   "cell_type": "code",
   "execution_count": 18,
   "metadata": {},
   "outputs": [
    {
     "name": "stdout",
     "output_type": "stream",
     "text": [
      "You lose, robot number: 3\n"
     ]
    }
   ],
   "source": [
    "## We want to create a \"guess the number\" game for our fortune-teller robot. \n",
    "## If you guess the random number between 1 and 10, you win a crystal ball!\n",
    "\n",
    "# There is some code that's been written for us \n",
    "# -- getting the random number the user needs to guess, \n",
    "# asking the user to guess a number, and printing 'You win!' if they win. \n",
    "# We need to write the code to compare the users response to num.\n",
    "import random\n",
    "\n",
    "num = random.randint(1, 10)\n",
    "\n",
    "try:\n",
    "    guess = int(input('Guess a number between 1 and 10'))\n",
    "except:\n",
    "    print('only integers')\n",
    "# YOUR CODE HERE\n",
    "\n",
    "if num==guess:\n",
    "    print('you win') \n",
    "else:\n",
    "    print(f\"You lose, robot number: {num}\")"
   ]
  },
  {
   "cell_type": "code",
   "execution_count": 37,
   "metadata": {},
   "outputs": [
    {
     "name": "stdout",
     "output_type": "stream",
     "text": [
      "you win , trys: [False, True, True]\n"
     ]
    }
   ],
   "source": [
    "## Now our fortune-teller robot has a guess the number game — if you guess the random number between 1 and 10, you win a crystal ball! \n",
    "## But the game lets the user guess 10 times, so they always win... #fail. \n",
    "## Let's fix the game so they can only guess three times.\n",
    "## After the while loop ends, check if guess is equal to num, then print 'You win!'. Otherwise, print 'You lose! The number was ' and also print num.\n",
    "\n",
    "import random\n",
    "\n",
    "trys=[]\n",
    "\n",
    "try:\n",
    "    for i in range(3):   \n",
    "        guess = int(input('Guess a number between 1 and 10'))\n",
    "        num = random.randint(1, 2)\n",
    "        if num==guess:\n",
    "            we_guess=True\n",
    "        else:\n",
    "            we_guess=False\n",
    "\n",
    "        trys.append(we_guess)\n",
    "        \n",
    "except:\n",
    "    print('only integers')\n",
    "# YOUR CODE HERE\n",
    "\n",
    "if trys.count(True)>1:\n",
    "    print('you win ')\n",
    "else:\n",
    "    print(f\"you lose, trys: {trys}\")\n",
    "\n",
    "\n"
   ]
  }
 ],
 "metadata": {
  "interpreter": {
   "hash": "a2ab3825ac7005fb7b26f112e9c99ae62f464c629e30b0d534c3b931b6cbc3ff"
  },
  "kernelspec": {
   "display_name": "Python 3.9.7 ('base')",
   "language": "python",
   "name": "python3"
  },
  "language_info": {
   "codemirror_mode": {
    "name": "ipython",
    "version": 3
   },
   "file_extension": ".py",
   "mimetype": "text/x-python",
   "name": "python",
   "nbconvert_exporter": "python",
   "pygments_lexer": "ipython3",
   "version": "3.9.7"
  },
  "orig_nbformat": 4,
  "vscode": {
   "interpreter": {
    "hash": "aee8b7b246df8f9039afb4144a1f6fd8d2ca17a180786b69acc140d282b71a49"
   }
  }
 },
 "nbformat": 4,
 "nbformat_minor": 2
}
